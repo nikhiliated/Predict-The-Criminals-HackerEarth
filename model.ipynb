{
 "cells": [
  {
   "cell_type": "code",
   "execution_count": 1,
   "metadata": {
    "collapsed": true
   },
   "outputs": [],
   "source": [
    "import os\n",
    "import pandas as pd\n",
    "import numpy as np\n",
    "import math\n",
    "import warnings\n",
    "import matplotlib as mpl\n",
    "import matplotlib.pyplot as plt\n",
    "from pylab import rcParams\n",
    "import seaborn as sns\n",
    "import matplotlib.gridspec as gridspec\n",
    "from sklearn.model_selection import train_test_split\n",
    "%matplotlib inline\n",
    "warnings.filterwarnings('ignore')\n",
    "from IPython.display import FileLink"
   ]
  },
  {
   "cell_type": "code",
   "execution_count": 2,
   "metadata": {
    "collapsed": true
   },
   "outputs": [],
   "source": [
    "# Reading datasets\n",
    "train= pd.read_csv('criminal_train.csv')\n",
    "test= pd.read_csv('criminal_test.csv')"
   ]
  },
  {
   "cell_type": "code",
   "execution_count": 3,
   "metadata": {},
   "outputs": [
    {
     "data": {
      "text/plain": [
       "0    42543\n",
       "1     3175\n",
       "Name: Criminal, dtype: int64"
      ]
     },
     "execution_count": 3,
     "metadata": {},
     "output_type": "execute_result"
    }
   ],
   "source": [
    "train['Criminal'].value_counts()"
   ]
  },
  {
   "cell_type": "code",
   "execution_count": 4,
   "metadata": {
    "collapsed": true
   },
   "outputs": [],
   "source": [
    "train_id=train['PERID']\n",
    "target=train['Criminal']\n",
    "target_set=pd.DataFrame(train_id).join(pd.DataFrame(target))\n",
    "train= train.drop(['PERID', 'Criminal'], axis=1)\n",
    "features=train.columns\n",
    "test_id=test['PERID']\n",
    "test= test.drop(['PERID'], axis=1)"
   ]
  },
  {
   "cell_type": "code",
   "execution_count": 5,
   "metadata": {
    "collapsed": true
   },
   "outputs": [],
   "source": [
    "weight = float(np.sum(target == 0)) / float(np.sum(target == 1))"
   ]
  },
  {
   "cell_type": "code",
   "execution_count": 6,
   "metadata": {
    "collapsed": true
   },
   "outputs": [],
   "source": [
    "# Concating train and test into one\n",
    "data = pd.concat([train, test], ignore_index=True)"
   ]
  },
  {
   "cell_type": "code",
   "execution_count": 7,
   "metadata": {
    "collapsed": true
   },
   "outputs": [],
   "source": [
    "data= data.drop(['IIMEDICR', 'IIMCDCHP', 'IICHMPUS', 'IIPRVHLT', 'HLNVNEED', 'HLNVSOR', 'IROTHHLT','IIOTHHLT', 'IRINSUR4', 'IIINSUR4', 'TROUBUND', 'AIIND102', 'HLCLAST'], axis=1)"
   ]
  },
  {
   "cell_type": "code",
   "execution_count": 8,
   "metadata": {
    "collapsed": true
   },
   "outputs": [],
   "source": [
    "#Log Transform\n",
    "for i in data.columns: \n",
    "    data[i] = np.log(1.5+data[i])"
   ]
  },
  {
   "cell_type": "code",
   "execution_count": 9,
   "metadata": {
    "collapsed": true
   },
   "outputs": [],
   "source": [
    "# Scaling linear variables\n",
    "from sklearn.preprocessing import StandardScaler\n",
    "\n",
    "cols_to_scale= data.columns\n",
    "scaler = StandardScaler().fit(data[cols_to_scale])\n",
    "\n",
    "data[cols_to_scale] = scaler.transform(data[cols_to_scale])"
   ]
  },
  {
   "cell_type": "code",
   "execution_count": 10,
   "metadata": {
    "collapsed": true
   },
   "outputs": [],
   "source": [
    "# Splitting back into train and test\n",
    "train = data[:len(train)]\n",
    "test  = data[len(train):]\n",
    "test = test.reset_index(drop=True)\n",
    "\n",
    "train = train.values\n",
    "test  = test.values\n",
    "target= target.values"
   ]
  },
  {
   "cell_type": "code",
   "execution_count": 11,
   "metadata": {
    "collapsed": true
   },
   "outputs": [],
   "source": [
    "from sklearn.metrics import accuracy_score, log_loss\n",
    "from sklearn.neighbors import KNeighborsClassifier\n",
    "from sklearn.svm import SVC\n",
    "from sklearn.ensemble import AdaBoostClassifier, GradientBoostingClassifier, RandomForestClassifier\n",
    "import lightgbm as lgb\n",
    "from xgboost import XGBClassifier"
   ]
  },
  {
   "cell_type": "code",
   "execution_count": 12,
   "metadata": {},
   "outputs": [
    {
     "data": {
      "text/plain": [
       "<matplotlib.axes._subplots.AxesSubplot at 0x7f01cd6cea58>"
      ]
     },
     "execution_count": 12,
     "metadata": {},
     "output_type": "execute_result"
    },
    {
     "data": {
      "image/png": "[encoded data removed]",
      "text/plain": [
       "<matplotlib.figure.Figure at 0x7f01cd6b2390>"
      ]
     },
     "metadata": {},
     "output_type": "display_data"
    }
   ],
   "source": [
    "classifiers = [\n",
    "    KNeighborsClassifier(3),\n",
    "    SVC(probability=True),\n",
    "    AdaBoostClassifier(),\n",
    "    GradientBoostingClassifier(),  \n",
    "    RandomForestClassifier(class_weight={0:weight, 1:1}),\n",
    "    lgb.LGBMClassifier(scale_pos_weight=weight),\n",
    "    XGBClassifier(scale_pos_weight=weight)\n",
    "]\n",
    "\n",
    "log_cols = [\"Classifier\", \"MCC\"]\n",
    "log  = pd.DataFrame(columns=log_cols)\n",
    "\n",
    "\n",
    "X = train\n",
    "y = target\n",
    "\n",
    "mcc_dict = {}\n",
    "preds_tr= {}\n",
    "\n",
    "from sklearn import cross_validation\n",
    "from sklearn.metrics import matthews_corrcoef\n",
    "cv = cross_validation.KFold(len(train), n_folds=10)\n",
    "\n",
    "for clf in classifiers:\n",
    "    \n",
    "    for traincv, testcv in cv:\n",
    "        name = clf.__class__.__name__\n",
    "        clf.fit(train[traincv], target[traincv])\n",
    "        train_predictions = clf.predict(train[testcv])\n",
    "        mcc = matthews_corrcoef(target[testcv], train_predictions)\n",
    "        \n",
    "        if name in mcc_dict:   # Train accuracies\n",
    "            mcc_dict[name] += mcc\n",
    "        else:\n",
    "            mcc_dict[name] = mcc\n",
    "            \n",
    "        if name in preds_tr:   # Train predictions\n",
    "            preds_tr[name]= np.concatenate((preds_tr[name], train_predictions), axis=0)\n",
    "        else:\n",
    "            preds_tr[name]= train_predictions\n",
    "\n",
    "for clf in mcc_dict:\n",
    "    mcc_dict[clf] = mcc_dict[clf] / 10.0\n",
    "    log_entry = pd.DataFrame([[clf, mcc_dict[clf]]], columns=log_cols)\n",
    "    log = log.append(log_entry)\n",
    "\n",
    "plt.xlabel('MCC')\n",
    "plt.title('Classifier MCC')\n",
    "\n",
    "sns.set_color_codes(\"muted\")\n",
    "sns.barplot(x='MCC', y='Classifier', data=log, color=\"b\")"
   ]
  },
  {
   "cell_type": "code",
   "execution_count": 13,
   "metadata": {
    "collapsed": true
   },
   "outputs": [],
   "source": [
    "# Test predictions for layer 1\n",
    "X = train\n",
    "y = target\n",
    "preds_te= {}\n",
    "\n",
    "for clf in classifiers:\n",
    "        name = clf.__class__.__name__\n",
    "        clf.fit(X, y)\n",
    "        test_predictions= clf.predict(test)\n",
    "        preds_te[name] = test_predictions\n",
    "\n",
    "predictions_te1 = pd.DataFrame(preds_te)  # test predictions\n",
    "predictions_tr1 = pd.DataFrame(preds_tr)  # train predictions"
   ]
  },
  {
   "cell_type": "markdown",
   "metadata": {},
   "source": [
    "## Second layer models"
   ]
  },
  {
   "cell_type": "code",
   "execution_count": 14,
   "metadata": {
    "collapsed": true
   },
   "outputs": [],
   "source": [
    "train2 = data[:len(train)]\n",
    "test2  = data[len(train):]\n",
    "test2 = test2.reset_index(drop=True)\n",
    "\n",
    "train2= train2.join(predictions_tr1)\n",
    "test2= test2.join(predictions_te1)\n",
    "\n",
    "train2 = train2.reset_index(drop=True)\n",
    "test2 = test2.reset_index(drop=True)"
   ]
  },
  {
   "cell_type": "code",
   "execution_count": 15,
   "metadata": {
    "collapsed": true
   },
   "outputs": [],
   "source": [
    "# Ensembling & Stacking models\n",
    "\n",
    "from sklearn.metrics import accuracy_score, log_loss\n",
    "from sklearn.neighbors import KNeighborsClassifier\n",
    "from sklearn.svm import SVC\n",
    "from sklearn.ensemble import RandomForestClassifier, AdaBoostClassifier, GradientBoostingClassifier, VotingClassifier\n",
    "import lightgbm as lgb\n",
    "from xgboost import XGBClassifier"
   ]
  },
  {
   "cell_type": "code",
   "execution_count": 16,
   "metadata": {
    "collapsed": true
   },
   "outputs": [],
   "source": [
    "train=train2\n",
    "test=test2"
   ]
  },
  {
   "cell_type": "code",
   "execution_count": 17,
   "metadata": {
    "collapsed": true
   },
   "outputs": [],
   "source": [
    "rf=RandomForestClassifier(class_weight={0:weight, 1:1})\n",
    "ad=AdaBoostClassifier()\n",
    "gb=GradientBoostingClassifier()\n",
    "lgb=lgb.LGBMClassifier(scale_pos_weight=weight)\n",
    "xgb=XGBClassifier(scale_pos_weight=weight)\n",
    "knn=KNeighborsClassifier(3)\n",
    "svc=SVC(probability=True)"
   ]
  },
  {
   "cell_type": "code",
   "execution_count": 18,
   "metadata": {
    "collapsed": true
   },
   "outputs": [],
   "source": [
    "estimators=[('rf', rf), ('ad', ad), ('gb', gb), ('lgb', lgb), ('xgb', xgb), ('knn', knn), ('svc', svc)]"
   ]
  },
  {
   "cell_type": "code",
   "execution_count": 19,
   "metadata": {
    "collapsed": true
   },
   "outputs": [],
   "source": [
    "ensemble = VotingClassifier(estimators=estimators, voting='soft')"
   ]
  },
  {
   "cell_type": "code",
   "execution_count": 20,
   "metadata": {
    "collapsed": true
   },
   "outputs": [],
   "source": [
    "ensemble = ensemble.fit(train, target)"
   ]
  },
  {
   "cell_type": "code",
   "execution_count": 21,
   "metadata": {
    "collapsed": true
   },
   "outputs": [],
   "source": [
    "output= ensemble.predict(test)"
   ]
  },
  {
   "cell_type": "code",
   "execution_count": 22,
   "metadata": {},
   "outputs": [
    {
     "data": {
      "text/html": [
       "<a href='prediction.csv' target='_blank'>prediction.csv</a><br>"
      ],
      "text/plain": [
       "/media/nikhil/Beta/Workspace/Data/Competitions/Predict the Criminal/best/criminal/prediction.csv"
      ]
     },
     "execution_count": 22,
     "metadata": {},
     "output_type": "execute_result"
    }
   ],
   "source": [
    "sub = pd.DataFrame({'PERID': test_id, 'Criminal': output})\n",
    "sub = sub[['PERID', 'Criminal']]\n",
    "filename = 'prediction.csv'\n",
    "sub.to_csv(filename, index=False)\n",
    "FileLink(filename)"
   ]
  },
  {
   "cell_type": "code",
   "execution_count": null,
   "metadata": {
    "collapsed": true
   },
   "outputs": [],
   "source": []
  },
  {
   "cell_type": "code",
   "execution_count": null,
   "metadata": {
    "collapsed": true
   },
   "outputs": [],
   "source": []
  }
 ],
 "metadata": {
  "kernelspec": {
   "display_name": "Python 3",
   "language": "python",
   "name": "python3"
  },
  "language_info": {
   "codemirror_mode": {
    "name": "ipython",
    "version": 3
   },
   "file_extension": ".py",
   "mimetype": "text/x-python",
   "name": "python",
   "nbconvert_exporter": "python",
   "pygments_lexer": "ipython3",
   "version": "3.6.3"
  }
 },
 "nbformat": 4,
 "nbformat_minor": 2
}
